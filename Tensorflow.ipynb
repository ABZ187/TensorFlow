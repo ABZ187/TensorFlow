{
 "cells": [
  {
   "cell_type": "code",
   "execution_count": 1,
   "id": "895d93e9",
   "metadata": {},
   "outputs": [],
   "source": [
    "import numpy as np\n",
    "import tensorflow as tf"
   ]
  },
  {
   "cell_type": "code",
   "execution_count": null,
   "id": "38b79114",
   "metadata": {},
   "outputs": [],
   "source": [
    "# random value from a random distribution between [0,1)\n",
    "np.random.rand()"
   ]
  },
  {
   "cell_type": "code",
   "execution_count": 5,
   "id": "e88b012f",
   "metadata": {},
   "outputs": [],
   "source": [
    "import h5py #https://www.geeksforgeeks.org/hdf5-files-in-python/\n",
    "#read h5 dataset file \n",
    "dataset1 = h5py.File(\"datasets/train_signs.h5\",\"r\")\n",
    "#pointing to 'train_set_x' in dataset1\n",
    "d1 = dataset1[\"train_set_x\"]"
   ]
  },
  {
   "cell_type": "code",
   "execution_count": 108,
   "id": "0955cd1c",
   "metadata": {},
   "outputs": [],
   "source": [
    "#if data already exists in form of tensor objecct, python list or numpy array .from_tensor_slices\n",
    "# can convert it into a dataset.\n",
    "ds1 = tf.data.Dataset.from_tensor_slices(d1) \n",
    "##iterate over dataset\n",
    "# for i in ds1:\n",
    "#     print(i)"
   ]
  },
  {
   "cell_type": "code",
   "execution_count": 115,
   "id": "df3554d3",
   "metadata": {},
   "outputs": [
    {
     "name": "stdout",
     "output_type": "stream",
     "text": [
      "[ 1. 45.  6.]\n",
      "[ 8.  9. 89.]\n",
      "[7. 9.]\n"
     ]
    }
   ],
   "source": [
    "#divide dataset into batches\n",
    "ds2 = tf.data.Dataset.from_tensor_slices([1,45,6,8,9.0,89.0,7,9])\n",
    "b1 = ds2.batch(3)\n",
    "for i in b1:\n",
    "    print(i.numpy())"
   ]
  },
  {
   "cell_type": "code",
   "execution_count": 24,
   "id": "03a76f87",
   "metadata": {},
   "outputs": [
    {
     "name": "stdout",
     "output_type": "stream",
     "text": [
      "[[0 1 2 3 4]]\n"
     ]
    }
   ],
   "source": [
    "#convert a numpy array into tensor \n",
    "arr1 = np.array([range(5)])\n",
    "t1 = tf.convert_to_tensor(arr1)\n",
    "print(t1.numpy()) # numpy() to display"
   ]
  },
  {
   "cell_type": "code",
   "execution_count": 51,
   "id": "c23ab619",
   "metadata": {},
   "outputs": [
    {
     "data": {
      "text/plain": [
       "1.1769392"
      ]
     },
     "execution_count": 51,
     "metadata": {},
     "output_type": "execute_result"
    }
   ],
   "source": [
    "y_true = [[0, 1, 0], [0, 0, 1]]\n",
    "y_pred = [[0.05, 0.95, 0], [0.1, 0.8, 0.1]]\n",
    "# Using 'auto'/'sum_over_batch_size' reduction type.\n",
    "cce = tf.keras.losses.CategoricalCrossentropy()(y_true, y_pred).numpy()\n",
    "cce\n"
   ]
  },
  {
   "cell_type": "code",
   "execution_count": 61,
   "id": "b3dc5ec5",
   "metadata": {
    "scrolled": true
   },
   "outputs": [
    {
     "name": "stdout",
     "output_type": "stream",
     "text": [
      "[0.22314355 2.9957323 ]\n",
      "\n",
      " [2.6982925 3.394281 ]\n"
     ]
    }
   ],
   "source": [
    "#categorial cross entropy loss function\n",
    "y_true = [[1,0,0],[0,1,0]]\n",
    "y_pred = [[.8,.1,.1],[0.9,0.05,0.05]]\n",
    "a = tf.keras.losses.categorical_crossentropy(y_true, y_pred)\n",
    "print(a.numpy())\n",
    "\n",
    "y_true = [[1,0],[0,1]]\n",
    "y_pred  = [[ 2.4048107,   5.0334096 ],[-0.7921977,  -4.1523376 ]]\n",
    "b = tf.keras.losses.categorical_crossentropy(y_true,y_pred,from_logits=True) # y_pred is a unnormalized vector(logits vector)\n",
    "# then from_logits=True\n",
    "print(\"\\n\",b.numpy())"
   ]
  },
  {
   "cell_type": "code",
   "execution_count": 96,
   "id": "4515565d",
   "metadata": {},
   "outputs": [
    {
     "name": "stdout",
     "output_type": "stream",
     "text": [
      "Gradient of x with respect to loss [1. 4. 9.] \n",
      "Gradient of x with respect to y [  4.  32. 108.]\n"
     ]
    }
   ],
   "source": [
    "# tf.GradientTape and tf.Variable\n",
    "x = tf.Variable([1,2.0,3]) #tf.Variable specify recordable variables, without it GradientTape won't work \n",
    "#atleast one entry should be float (probabily a bug)\n",
    "with tf.GradientTape(persistent=True) as gt: #if you want to calculate with respect to #more than one variable persistent=True \n",
    "    y = x**4\n",
    "    loss = tf.reduce_mean(np.log(y)+x**3)\n",
    "print(\"Gradient of x with respect to loss\",gt.gradient(loss,x).numpy(),\n",
    "      \"\\nGradient of x with respect to y\",gt.gradient(y,x).numpy())"
   ]
  },
  {
   "cell_type": "code",
   "execution_count": 23,
   "id": "b992f08b",
   "metadata": {},
   "outputs": [
    {
     "name": "stdout",
     "output_type": "stream",
     "text": [
      "[[1. 1. 1.]\n",
      " [1. 1. 1.]\n",
      " [1. 1. 1.]\n",
      " [1. 1. 1.]\n",
      " [1. 1. 1.]]\n"
     ]
    }
   ],
   "source": [
    "#make tensor of 1's\n",
    "t_ones = tf.ones([5,3])\n",
    "print(t_ones.numpy())"
   ]
  },
  {
   "cell_type": "code",
   "execution_count": 33,
   "id": "d626f57e",
   "metadata": {},
   "outputs": [
    {
     "name": "stdout",
     "output_type": "stream",
     "text": [
      "[1.33      4.        0.        8.        3.1415927]\n"
     ]
    }
   ],
   "source": [
    "#make tensor of constants\n",
    "t_const = tf.constant([1.33,4,0,8,np.pi],dtype=tf.float32)\n",
    "print(t_const.numpy())"
   ]
  },
  {
   "cell_type": "code",
   "execution_count": 47,
   "id": "5e2dd6ac",
   "metadata": {},
   "outputs": [
    {
     "name": "stdout",
     "output_type": "stream",
     "text": [
      "tf.Tensor([98.          8.          9.89999962], shape=(3,), dtype=float64)\n"
     ]
    }
   ],
   "source": [
    "#change datatype of tensor\n",
    "t_32 = tf.constant([98,8,9.9],dtype=tf.float32)\n",
    "t_64 = tf.cast(t_32,dtype=tf.float64)\n",
    "print(t_64)"
   ]
  },
  {
   "cell_type": "code",
   "execution_count": 50,
   "id": "5d841274",
   "metadata": {},
   "outputs": [
    {
     "name": "stdout",
     "output_type": "stream",
     "text": [
      "(5, 3)  -->  (3, 5)\n"
     ]
    }
   ],
   "source": [
    "#transpose a tensor\n",
    "t2 = tf.random.uniform([5,3])\n",
    "t3 = tf.transpose(t2)\n",
    "print(t2.shape,\" --> \",t3.shape)"
   ]
  },
  {
   "cell_type": "code",
   "execution_count": 55,
   "id": "334f5820",
   "metadata": {},
   "outputs": [
    {
     "name": "stdout",
     "output_type": "stream",
     "text": [
      "(4, 5)  -->  (2, 10)\n"
     ]
    }
   ],
   "source": [
    "#reshape a vector\n",
    "t4 = tf.random.normal([4,5])\n",
    "t_reshape = tf.reshape(t4,shape=(2,10))\n",
    "print(t4.shape,\" --> \",t_reshape.shape)"
   ]
  },
  {
   "cell_type": "code",
   "execution_count": 61,
   "id": "e562efd2",
   "metadata": {},
   "outputs": [
    {
     "data": {
      "text/plain": [
       "array([[ 0.414394  , -1.1486506 ,  2.1187453 ],\n",
       "       [-1.1296043 , -0.89172375, -0.20756957],\n",
       "       [-0.19543427,  2.074313  ,  0.63056356],\n",
       "       [-0.96307576,  1.6300067 , -1.807727  ]], dtype=float32)"
      ]
     },
     "execution_count": 61,
     "metadata": {},
     "output_type": "execute_result"
    }
   ],
   "source": [
    "#elementwise multiply tensor\n",
    "t5 = tf.random.uniform(shape=(4,3),maxval=3,minval=1)\n",
    "t6 = tf.random.normal(shape=(4,3),mean=0,stddev=1)#std normal distribution\n",
    "tf.multiply(t5,t6).numpy()"
   ]
  },
  {
   "cell_type": "code",
   "execution_count": 78,
   "id": "ab67a7aa",
   "metadata": {},
   "outputs": [
    {
     "name": "stdout",
     "output_type": "stream",
     "text": [
      "[[ 0.19  0.95 -0.8 ]\n",
      " [-0.4   1.43  0.55]\n",
      " [ 0.53  1.69 -0.93]]\n",
      "\n",
      " [[ 0.23  0.5   0.45  0.42  0.52]\n",
      " [ 0.3   0.71  0.59  0.63  0.66]\n",
      " [-0.39  1.22  0.78  0.18  0.74]\n",
      " [-0.63  2.14  1.    0.61  0.83]\n",
      " [ 0.49  0.42  0.64  0.53  0.81]]\n",
      "\n",
      " [[0.56 0.6  0.88]\n",
      " [0.03 1.06 1.73]\n",
      " [0.64 1.17 1.51]]\n"
     ]
    }
   ],
   "source": [
    "#matrix multiplication of tensors\n",
    "np.set_printoptions(precision=2)\n",
    "t8 = tf.random.uniform(shape=(3,5))\n",
    "t10 = tf.random.normal(shape=(5,3))\n",
    "t9 = tf.random.normal(shape=(3,5))\n",
    "t7 = tf.linalg.matmul(t8,t10)\n",
    "print(t7.numpy())\n",
    "\n",
    "t11 = tf.linalg.matmul(t8,t9,transpose_a=True) #transpose first tensor and multiply\n",
    "print(\"\\n\",t11.numpy())\n",
    "\n",
    "t12 = tf.linalg.matmul(t8,t9,transpose_b=True)\n",
    "print(\"\\n\",t12.numpy())"
   ]
  },
  {
   "cell_type": "code",
   "execution_count": 83,
   "id": "6a985008",
   "metadata": {},
   "outputs": [
    {
     "name": "stdout",
     "output_type": "stream",
     "text": [
      "[[-1.34e-04]\n",
      " [-1.21e+00]\n",
      " [ 4.22e-01]\n",
      " [ 6.26e-01]\n",
      " [ 1.75e-01]]\n"
     ]
    }
   ],
   "source": [
    "#mean, sum, stddev\n",
    "t10 = tf.random.normal(shape=(5,3))\n",
    "t13 = tf.math.reduce_mean(t10,axis=1,keepdims=True) #mean along y axis\n",
    "print(t13.numpy())"
   ]
  },
  {
   "cell_type": "code",
   "execution_count": 100,
   "id": "964d6d51",
   "metadata": {},
   "outputs": [
    {
     "name": "stdout",
     "output_type": "stream",
     "text": [
      "tf.Tensor(\n",
      "[[0.48 0.03 0.19]\n",
      " [0.41 0.41 0.04]\n",
      " [0.13 0.74 1.  ]\n",
      " [0.36 0.02 0.86]], shape=(4, 3), dtype=float32) \n",
      "\n",
      "tf.Tensor(\n",
      "[[0.48 0.03 0.19 0.41 0.41 0.04]\n",
      " [0.13 0.74 1.   0.36 0.02 0.86]], shape=(2, 6), dtype=float32) \n",
      "\n"
     ]
    }
   ],
   "source": [
    "#split tensors\n",
    "t14 = tf.random.uniform((12,))\n",
    "t15 = tf.split(t14,num_or_size_splits=4) #splits tensor into a list of 4 tensors\n",
    "print(tf.squeeze(t15),\"\\n\")\n",
    "t16 = tf.split(t14,num_or_size_splits=[6,6]) #splits by size provided of output tensor\n",
    "print(tf.squeeze(t16),\"\\n\")"
   ]
  },
  {
   "cell_type": "code",
   "execution_count": 106,
   "id": "94372525",
   "metadata": {},
   "outputs": [
    {
     "data": {
      "text/plain": [
       "array([[0., 0., 0.],\n",
       "       [1., 1., 1.]], dtype=float32)"
      ]
     },
     "execution_count": 106,
     "metadata": {},
     "output_type": "execute_result"
    }
   ],
   "source": [
    "#stack tensors\n",
    "t17 = tf.zeros((3,))\n",
    "t18 = tf.ones((3,))\n",
    "tf.stack([t17,t18],axis=0).numpy()"
   ]
  },
  {
   "cell_type": "code",
   "execution_count": 4,
   "id": "38deec47",
   "metadata": {},
   "outputs": [],
   "source": [
    "import tensorflow.keras.layers as tfl"
   ]
  },
  {
   "cell_type": "code",
   "execution_count": 21,
   "id": "74a0a566",
   "metadata": {},
   "outputs": [
    {
     "data": {
      "text/plain": [
       "[<tf.Variable 'dense_2/kernel:0' shape=(2, 2) dtype=float32, numpy=\n",
       " array([[-0.35828698,  0.83551395],\n",
       "        [-0.3050661 , -0.11688697]], dtype=float32)>,\n",
       " <tf.Variable 'dense_2/bias:0' shape=(2,) dtype=float32, numpy=array([0., 0.], dtype=float32)>,\n",
       " <tf.Variable 'batch_normalization_9/gamma:0' shape=(2,) dtype=float32, numpy=array([1., 1.], dtype=float32)>,\n",
       " <tf.Variable 'batch_normalization_9/beta:0' shape=(2,) dtype=float32, numpy=array([0., 0.], dtype=float32)>,\n",
       " <tf.Variable 'batch_normalization_9/moving_mean:0' shape=(2,) dtype=float32, numpy=array([0., 0.], dtype=float32)>,\n",
       " <tf.Variable 'batch_normalization_9/moving_variance:0' shape=(2,) dtype=float32, numpy=array([1., 1.], dtype=float32)>]"
      ]
     },
     "execution_count": 21,
     "metadata": {},
     "output_type": "execute_result"
    }
   ],
   "source": [
    "arr1 = np.arange(25).reshape(5,5)\n",
    "model = tf.keras.Sequential([\n",
    "    tf.keras.Input(shape=(2,2)),\n",
    "    tfl.Dense(2),\n",
    "    tfl.BatchNormalization(axis=1)])\n",
    "print(len(model.weights)) #each dense layer adds in length (weights,biases)"
   ]
  },
  {
   "cell_type": "code",
   "execution_count": null,
   "id": "0cf4d273",
   "metadata": {},
   "outputs": [],
   "source": []
  }
 ],
 "metadata": {
  "kernelspec": {
   "display_name": "Python 3 (ipykernel)",
   "language": "python",
   "name": "python3"
  },
  "language_info": {
   "codemirror_mode": {
    "name": "ipython",
    "version": 3
   },
   "file_extension": ".py",
   "mimetype": "text/x-python",
   "name": "python",
   "nbconvert_exporter": "python",
   "pygments_lexer": "ipython3",
   "version": "3.9.6"
  }
 },
 "nbformat": 4,
 "nbformat_minor": 5
}
